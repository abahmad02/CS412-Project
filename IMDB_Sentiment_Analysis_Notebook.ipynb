{
 "cells": [
  {
   "cell_type": "markdown",
   "id": "687e2639",
   "metadata": {
    "id": "687e2639"
   },
   "source": [
    "# Sentiment Analysis of IMDB Movie Reviews\n",
    "\n",
    "This notebook performs sentiment analysis on the IMDB movie review dataset.\n",
    "\n",
    "**Includes:**\n",
    "- Data Loading and Exploration\n",
    "- Text Preprocessing\n",
    "- Training and Evaluation of:\n",
    "  - Multinomial Naive Bayes\n",
    "  - Logistic Regression\n",
    "  - LSTM (TensorFlow/Keras)\n",
    "- Model Evaluation and Comparison"
   ]
  },
  {
   "cell_type": "markdown",
   "id": "6baf8e40",
   "metadata": {
    "id": "6baf8e40"
   },
   "source": [
    "## 1. Data Loading and Exploration"
   ]
  },
  {
   "cell_type": "code",
   "execution_count": 1,
   "id": "79d82209",
   "metadata": {
    "colab": {
     "base_uri": "https://localhost:8080/",
     "height": 380
    },
    "executionInfo": {
     "elapsed": 8012,
     "status": "ok",
     "timestamp": 1746478555761,
     "user": {
      "displayName": "Abdullah Ahmad (Student)",
      "userId": "16018724145086147473"
     },
     "user_tz": -180
    },
    "id": "79d82209",
    "outputId": "16575f6f-92d6-455d-a965-721edca18734"
   },
   "outputs": [
    {
     "name": "stdout",
     "output_type": "stream",
     "text": [
      "Loading dataset...\n",
      "<class 'pandas.core.frame.DataFrame'>\n",
      "RangeIndex: 50000 entries, 0 to 49999\n",
      "Data columns (total 2 columns):\n",
      " #   Column     Non-Null Count  Dtype \n",
      "---  ------     --------------  ----- \n",
      " 0   review     50000 non-null  object\n",
      " 1   sentiment  50000 non-null  object\n",
      "dtypes: object(2)\n",
      "memory usage: 781.4+ KB\n",
      "<class 'pandas.core.frame.DataFrame'>\n",
      "RangeIndex: 50000 entries, 0 to 49999\n",
      "Data columns (total 2 columns):\n",
      " #   Column     Non-Null Count  Dtype \n",
      "---  ------     --------------  ----- \n",
      " 0   review     50000 non-null  object\n",
      " 1   sentiment  50000 non-null  object\n",
      "dtypes: object(2)\n",
      "memory usage: 781.4+ KB\n"
     ]
    },
    {
     "data": {
      "text/html": [
       "<div>\n",
       "<style scoped>\n",
       "    .dataframe tbody tr th:only-of-type {\n",
       "        vertical-align: middle;\n",
       "    }\n",
       "\n",
       "    .dataframe tbody tr th {\n",
       "        vertical-align: top;\n",
       "    }\n",
       "\n",
       "    .dataframe thead th {\n",
       "        text-align: right;\n",
       "    }\n",
       "</style>\n",
       "<table border=\"1\" class=\"dataframe\">\n",
       "  <thead>\n",
       "    <tr style=\"text-align: right;\">\n",
       "      <th></th>\n",
       "      <th>review</th>\n",
       "      <th>sentiment</th>\n",
       "    </tr>\n",
       "  </thead>\n",
       "  <tbody>\n",
       "    <tr>\n",
       "      <th>0</th>\n",
       "      <td>One of the other reviewers has mentioned that ...</td>\n",
       "      <td>positive</td>\n",
       "    </tr>\n",
       "    <tr>\n",
       "      <th>1</th>\n",
       "      <td>A wonderful little production. &lt;br /&gt;&lt;br /&gt;The...</td>\n",
       "      <td>positive</td>\n",
       "    </tr>\n",
       "    <tr>\n",
       "      <th>2</th>\n",
       "      <td>I thought this was a wonderful way to spend ti...</td>\n",
       "      <td>positive</td>\n",
       "    </tr>\n",
       "    <tr>\n",
       "      <th>3</th>\n",
       "      <td>Basically there's a family where a little boy ...</td>\n",
       "      <td>negative</td>\n",
       "    </tr>\n",
       "    <tr>\n",
       "      <th>4</th>\n",
       "      <td>Petter Mattei's \"Love in the Time of Money\" is...</td>\n",
       "      <td>positive</td>\n",
       "    </tr>\n",
       "  </tbody>\n",
       "</table>\n",
       "</div>"
      ],
      "text/plain": [
       "                                              review sentiment\n",
       "0  One of the other reviewers has mentioned that ...  positive\n",
       "1  A wonderful little production. <br /><br />The...  positive\n",
       "2  I thought this was a wonderful way to spend ti...  positive\n",
       "3  Basically there's a family where a little boy ...  negative\n",
       "4  Petter Mattei's \"Love in the Time of Money\" is...  positive"
      ]
     },
     "execution_count": 1,
     "metadata": {},
     "output_type": "execute_result"
    }
   ],
   "source": [
    "\n",
    "import pandas as pd\n",
    "import numpy as np\n",
    "import matplotlib.pyplot as plt\n",
    "import seaborn as sns\n",
    "\n",
    "print(\"Loading dataset...\")\n",
    "df = pd.read_csv('IMDB Dataset.csv')\n",
    "\n",
    "df.info()\n",
    "df.head()\n"
   ]
  },
  {
   "cell_type": "code",
   "execution_count": 2,
   "id": "db076221",
   "metadata": {
    "colab": {
     "base_uri": "https://localhost:8080/"
    },
    "executionInfo": {
     "elapsed": 26,
     "status": "ok",
     "timestamp": 1746478572862,
     "user": {
      "displayName": "Abdullah Ahmad (Student)",
      "userId": "16018724145086147473"
     },
     "user_tz": -180
    },
    "id": "db076221",
    "outputId": "12d1073d-33ec-4662-e513-8301ad69d514"
   },
   "outputs": [
    {
     "name": "stdout",
     "output_type": "stream",
     "text": [
      "Missing values:\n",
      "review       0\n",
      "sentiment    0\n",
      "dtype: int64\n",
      "\n",
      "Sentiment distribution:\n",
      "sentiment\n",
      "positive    25000\n",
      "negative    25000\n",
      "Name: count, dtype: int64\n"
     ]
    }
   ],
   "source": [
    "\n",
    "# Check for missing values and basic stats\n",
    "print(\"Missing values:\")\n",
    "print(df.isnull().sum())\n",
    "print(\"\\nSentiment distribution:\")\n",
    "print(df['sentiment'].value_counts())\n"
   ]
  },
  {
   "cell_type": "code",
   "execution_count": 3,
   "id": "393187f6",
   "metadata": {
    "colab": {
     "base_uri": "https://localhost:8080/",
     "height": 410
    },
    "executionInfo": {
     "elapsed": 424,
     "status": "ok",
     "timestamp": 1746478576800,
     "user": {
      "displayName": "Abdullah Ahmad (Student)",
      "userId": "16018724145086147473"
     },
     "user_tz": -180
    },
    "id": "393187f6",
    "outputId": "66c97b13-4a3b-49e4-da2c-6db54bc06feb"
   },
   "outputs": [
    {
     "data": {
      "image/png": "[encoded data removed]",
      "text/plain": [
       "<Figure size 600x400 with 1 Axes>"
      ]
     },
     "metadata": {},
     "output_type": "display_data"
    }
   ],
   "source": [
    "\n",
    "# Plot sentiment distribution\n",
    "plt.figure(figsize=(6,4))\n",
    "sns.countplot(data=df, x='sentiment')\n",
    "plt.title(\"Sentiment Distribution\")\n",
    "plt.show()\n"
   ]
  },
  {
   "cell_type": "code",
   "execution_count": 4,
   "id": "839812d6",
   "metadata": {
    "colab": {
     "base_uri": "https://localhost:8080/",
     "height": 643
    },
    "executionInfo": {
     "elapsed": 1024,
     "status": "ok",
     "timestamp": 1746478580865,
     "user": {
      "displayName": "Abdullah Ahmad (Student)",
      "userId": "16018724145086147473"
     },
     "user_tz": -180
    },
    "id": "839812d6",
    "outputId": "da879ce1-73d5-4dae-e6ad-de63700b178e"
   },
   "outputs": [
    {
     "name": "stdout",
     "output_type": "stream",
     "text": [
      "count    50000.000000\n",
      "mean      1309.431020\n",
      "std        989.728014\n",
      "min         32.000000\n",
      "25%        699.000000\n",
      "50%        970.000000\n",
      "75%       1590.250000\n",
      "max      13704.000000\n",
      "Name: review_length, dtype: float64\n",
      "\n"
     ]
    },
    {
     "data": {
      "image/png": "[encoded data removed]",
      "text/plain": [
       "<Figure size 1000x500 with 1 Axes>"
      ]
     },
     "metadata": {},
     "output_type": "display_data"
    }
   ],
   "source": [
    "\n",
    "# Review length analysis\n",
    "df['review_length'] = df['review'].apply(len)\n",
    "print(df['review_length'].describe())\n",
    "\n",
    "plt.figure(figsize=(10,5))\n",
    "sns.histplot(df['review_length'], bins=50)\n",
    "plt.title(\"Review Length Distribution\")\n",
    "plt.xlabel(\"Review Length\")\n",
    "plt.show()\n"
   ]
  },
  {
   "cell_type": "markdown",
   "id": "bf1e7e20",
   "metadata": {
    "id": "bf1e7e20"
   },
   "source": [
    "## 2. Text Preprocessing\n",
    "\n",
    "We clean the text by removing HTML tags, punctuation, converting to lowercase, removing stopwords, and lemmatizing."
   ]
  },
  {
   "cell_type": "code",
   "execution_count": 5,
   "id": "8529688a",
   "metadata": {
    "colab": {
     "base_uri": "https://localhost:8080/",
     "height": 345
    },
    "executionInfo": {
     "elapsed": 73768,
     "status": "ok",
     "timestamp": 1746478707952,
     "user": {
      "displayName": "Abdullah Ahmad (Student)",
      "userId": "16018724145086147473"
     },
     "user_tz": -180
    },
    "id": "8529688a",
    "outputId": "e813aee1-16f2-4d5d-dc27-fa2d8a42f507"
   },
   "outputs": [
    {
     "name": "stderr",
     "output_type": "stream",
     "text": [
      "[nltk_data] Downloading package wordnet to\n",
      "[nltk_data]     C:\\Users\\abdul\\AppData\\Roaming\\nltk_data...\n",
      "[nltk_data]   Package wordnet is already up-to-date!\n",
      "[nltk_data] Downloading package stopwords to\n",
      "[nltk_data]     C:\\Users\\abdul\\AppData\\Roaming\\nltk_data...\n",
      "[nltk_data]   Package stopwords is already up-to-date!\n",
      "[nltk_data] Downloading package punkt to\n",
      "[nltk_data]     C:\\Users\\abdul\\AppData\\Roaming\\nltk_data...\n",
      "[nltk_data]   Package punkt is already up-to-date!\n",
      "[nltk_data] Downloading package punkt_tab to\n",
      "[nltk_data]     C:\\Users\\abdul\\AppData\\Roaming\\nltk_data...\n",
      "[nltk_data]   Package punkt_tab is already up-to-date!\n"
     ]
    },
    {
     "data": {
      "text/html": [
       "<div>\n",
       "<style scoped>\n",
       "    .dataframe tbody tr th:only-of-type {\n",
       "        vertical-align: middle;\n",
       "    }\n",
       "\n",
       "    .dataframe tbody tr th {\n",
       "        vertical-align: top;\n",
       "    }\n",
       "\n",
       "    .dataframe thead th {\n",
       "        text-align: right;\n",
       "    }\n",
       "</style>\n",
       "<table border=\"1\" class=\"dataframe\">\n",
       "  <thead>\n",
       "    <tr style=\"text-align: right;\">\n",
       "      <th></th>\n",
       "      <th>review</th>\n",
       "      <th>cleaned_review</th>\n",
       "    </tr>\n",
       "  </thead>\n",
       "  <tbody>\n",
       "    <tr>\n",
       "      <th>0</th>\n",
       "      <td>One of the other reviewers has mentioned that ...</td>\n",
       "      <td>one reviewer mentioned watching oz episode hoo...</td>\n",
       "    </tr>\n",
       "    <tr>\n",
       "      <th>1</th>\n",
       "      <td>A wonderful little production. &lt;br /&gt;&lt;br /&gt;The...</td>\n",
       "      <td>wonderful little production filming technique ...</td>\n",
       "    </tr>\n",
       "    <tr>\n",
       "      <th>2</th>\n",
       "      <td>I thought this was a wonderful way to spend ti...</td>\n",
       "      <td>thought wonderful way spend time hot summer we...</td>\n",
       "    </tr>\n",
       "    <tr>\n",
       "      <th>3</th>\n",
       "      <td>Basically there's a family where a little boy ...</td>\n",
       "      <td>basically family little boy jake think zombie ...</td>\n",
       "    </tr>\n",
       "    <tr>\n",
       "      <th>4</th>\n",
       "      <td>Petter Mattei's \"Love in the Time of Money\" is...</td>\n",
       "      <td>petter mattei love time money visually stunnin...</td>\n",
       "    </tr>\n",
       "  </tbody>\n",
       "</table>\n",
       "</div>"
      ],
      "text/plain": [
       "                                              review  \\\n",
       "0  One of the other reviewers has mentioned that ...   \n",
       "1  A wonderful little production. <br /><br />The...   \n",
       "2  I thought this was a wonderful way to spend ti...   \n",
       "3  Basically there's a family where a little boy ...   \n",
       "4  Petter Mattei's \"Love in the Time of Money\" is...   \n",
       "\n",
       "                                      cleaned_review  \n",
       "0  one reviewer mentioned watching oz episode hoo...  \n",
       "1  wonderful little production filming technique ...  \n",
       "2  thought wonderful way spend time hot summer we...  \n",
       "3  basically family little boy jake think zombie ...  \n",
       "4  petter mattei love time money visually stunnin...  "
      ]
     },
     "execution_count": 5,
     "metadata": {},
     "output_type": "execute_result"
    }
   ],
   "source": [
    "\n",
    "import re\n",
    "import nltk\n",
    "from nltk.corpus import stopwords\n",
    "from nltk.stem import WordNetLemmatizer\n",
    "\n",
    "nltk.download('wordnet')\n",
    "nltk.download('stopwords')\n",
    "nltk.download('punkt')\n",
    "nltk.download('punkt_tab')\n",
    "\n",
    "stop_words = set(stopwords.words('english'))\n",
    "lemmatizer = WordNetLemmatizer()\n",
    "\n",
    "def preprocess_text(text):\n",
    "    text = re.sub('<.*?>', '', text)\n",
    "    text = re.sub('[^a-zA-Z]', ' ', text)\n",
    "    text = text.lower()\n",
    "    tokens = nltk.word_tokenize(text)\n",
    "    tokens = [lemmatizer.lemmatize(word) for word in tokens if word not in stop_words and len(word) > 1]\n",
    "    return ' '.join(tokens)\n",
    "\n",
    "df['cleaned_review'] = df['review'].apply(preprocess_text)\n",
    "df['sentiment_label'] = df['sentiment'].map({'negative': 0, 'positive': 1})\n",
    "df[['review', 'cleaned_review']].head()\n"
   ]
  },
  {
   "cell_type": "markdown",
   "id": "06593b23",
   "metadata": {
    "id": "06593b23"
   },
   "source": [
    "## 3. Splitting Data and TF-IDF Feature Extraction"
   ]
  },
  {
   "cell_type": "code",
   "execution_count": 6,
   "id": "bbd85602",
   "metadata": {
    "executionInfo": {
     "elapsed": 4237,
     "status": "ok",
     "timestamp": 1746478721270,
     "user": {
      "displayName": "Abdullah Ahmad (Student)",
      "userId": "16018724145086147473"
     },
     "user_tz": -180
    },
    "id": "bbd85602"
   },
   "outputs": [],
   "source": [
    "\n",
    "from sklearn.model_selection import train_test_split\n",
    "from sklearn.feature_extraction.text import TfidfVectorizer\n",
    "\n",
    "X = df['cleaned_review']\n",
    "y = df['sentiment_label']\n",
    "\n",
    "X_train, X_test, y_train, y_test = train_test_split(X, y, test_size=0.2, stratify=y, random_state=42)\n",
    "\n",
    "tfidf_vectorizer = TfidfVectorizer(max_features=20000)\n",
    "X_train_tfidf = tfidf_vectorizer.fit_transform(X_train)\n",
    "X_test_tfidf = tfidf_vectorizer.transform(X_test)\n"
   ]
  },
  {
   "cell_type": "code",
   "execution_count": 7,
   "id": "f9fae53e",
   "metadata": {},
   "outputs": [
    {
     "name": "stdout",
     "output_type": "stream",
     "text": [
      "Transformers version: 4.51.3\n",
      "Datasets version: 3.6.0\n",
      "Accelerate version: 1.6.0\n",
      "Datasets version: 3.6.0\n",
      "Accelerate version: 1.6.0\n"
     ]
    }
   ],
   "source": [
    "\n",
    "import transformers\n",
    "print(f\"Transformers version: {transformers.__version__}\")\n",
    "import datasets\n",
    "print(f\"Datasets version: {datasets.__version__}\")\n",
    "import accelerate\n",
    "print(f\"Accelerate version: {accelerate.__version__}\")"
   ]
  },
  {
   "cell_type": "markdown",
   "id": "3c1364ab",
   "metadata": {
    "id": "3c1364ab"
   },
   "source": [
    "## 4. Training Traditional Machine Learning Models"
   ]
  },
  {
   "cell_type": "code",
   "execution_count": 8,
   "id": "cdf90e8b",
   "metadata": {
    "colab": {
     "base_uri": "https://localhost:8080/",
     "height": 80
    },
    "executionInfo": {
     "elapsed": 1784,
     "status": "ok",
     "timestamp": 1746478724868,
     "user": {
      "displayName": "Abdullah Ahmad (Student)",
      "userId": "16018724145086147473"
     },
     "user_tz": -180
    },
    "id": "cdf90e8b",
    "outputId": "26319ad6-62d2-4d77-d5c9-5ac86028b5d8"
   },
   "outputs": [
    {
     "data": {
      "text/html": [
       "<style>#sk-container-id-1 {\n",
       "  /* Definition of color scheme common for light and dark mode */\n",
       "  --sklearn-color-text: #000;\n",
       "  --sklearn-color-text-muted: #666;\n",
       "  --sklearn-color-line: gray;\n",
       "  /* Definition of color scheme for unfitted estimators */\n",
       "  --sklearn-color-unfitted-level-0: #fff5e6;\n",
       "  --sklearn-color-unfitted-level-1: #f6e4d2;\n",
       "  --sklearn-color-unfitted-level-2: #ffe0b3;\n",
       "  --sklearn-color-unfitted-level-3: chocolate;\n",
       "  /* Definition of color scheme for fitted estimators */\n",
       "  --sklearn-color-fitted-level-0: #f0f8ff;\n",
       "  --sklearn-color-fitted-level-1: #d4ebff;\n",
       "  --sklearn-color-fitted-level-2: #b3dbfd;\n",
       "  --sklearn-color-fitted-level-3: cornflowerblue;\n",
       "\n",
       "  /* Specific color for light theme */\n",
       "  --sklearn-color-text-on-default-background: var(--sg-text-color, var(--theme-code-foreground, var(--jp-content-font-color1, black)));\n",
       "  --sklearn-color-background: var(--sg-background-color, var(--theme-background, var(--jp-layout-color0, white)));\n",
       "  --sklearn-color-border-box: var(--sg-text-color, var(--theme-code-foreground, var(--jp-content-font-color1, black)));\n",
       "  --sklearn-color-icon: #696969;\n",
       "\n",
       "  @media (prefers-color-scheme: dark) {\n",
       "    /* Redefinition of color scheme for dark theme */\n",
       "    --sklearn-color-text-on-default-background: var(--sg-text-color, var(--theme-code-foreground, var(--jp-content-font-color1, white)));\n",
       "    --sklearn-color-background: var(--sg-background-color, var(--theme-background, var(--jp-layout-color0, #111)));\n",
       "    --sklearn-color-border-box: var(--sg-text-color, var(--theme-code-foreground, var(--jp-content-font-color1, white)));\n",
       "    --sklearn-color-icon: #878787;\n",
       "  }\n",
       "}\n",
       "\n",
       "#sk-container-id-1 {\n",
       "  color: var(--sklearn-color-text);\n",
       "}\n",
       "\n",
       "#sk-container-id-1 pre {\n",
       "  padding: 0;\n",
       "}\n",
       "\n",
       "#sk-container-id-1 input.sk-hidden--visually {\n",
       "  border: 0;\n",
       "  clip: rect(1px 1px 1px 1px);\n",
       "  clip: rect(1px, 1px, 1px, 1px);\n",
       "  height: 1px;\n",
       "  margin: -1px;\n",
       "  overflow: hidden;\n",
       "  padding: 0;\n",
       "  position: absolute;\n",
       "  width: 1px;\n",
       "}\n",
       "\n",
       "#sk-container-id-1 div.sk-dashed-wrapped {\n",
       "  border: 1px dashed var(--sklearn-color-line);\n",
       "  margin: 0 0.4em 0.5em 0.4em;\n",
       "  box-sizing: border-box;\n",
       "  padding-bottom: 0.4em;\n",
       "  background-color: var(--sklearn-color-background);\n",
       "}\n",
       "\n",
       "#sk-container-id-1 div.sk-container {\n",
       "  /* jupyter's `normalize.less` sets `[hidden] { display: none; }`\n",
       "     but bootstrap.min.css set `[hidden] { display: none !important; }`\n",
       "     so we also need the `!important` here to be able to override the\n",
       "     default hidden behavior on the sphinx rendered scikit-learn.org.\n",
       "     See: https://github.com/scikit-learn/scikit-learn/issues/21755 */\n",
       "  display: inline-block !important;\n",
       "  position: relative;\n",
       "}\n",
       "\n",
       "#sk-container-id-1 div.sk-text-repr-fallback {\n",
       "  display: none;\n",
       "}\n",
       "\n",
       "div.sk-parallel-item,\n",
       "div.sk-serial,\n",
       "div.sk-item {\n",
       "  /* draw centered vertical line to link estimators */\n",
       "  background-image: linear-gradient(var(--sklearn-color-text-on-default-background), var(--sklearn-color-text-on-default-background));\n",
       "  background-size: 2px 100%;\n",
       "  background-repeat: no-repeat;\n",
       "  background-position: center center;\n",
       "}\n",
       "\n",
       "/* Parallel-specific style estimator block */\n",
       "\n",
       "#sk-container-id-1 div.sk-parallel-item::after {\n",
       "  content: \"\";\n",
       "  width: 100%;\n",
       "  border-bottom: 2px solid var(--sklearn-color-text-on-default-background);\n",
       "  flex-grow: 1;\n",
       "}\n",
       "\n",
       "#sk-container-id-1 div.sk-parallel {\n",
       "  display: flex;\n",
       "  align-items: stretch;\n",
       "  justify-content: center;\n",
       "  background-color: var(--sklearn-color-background);\n",
       "  position: relative;\n",
       "}\n",
       "\n",
       "#sk-container-id-1 div.sk-parallel-item {\n",
       "  display: flex;\n",
       "  flex-direction: column;\n",
       "}\n",
       "\n",
       "#sk-container-id-1 div.sk-parallel-item:first-child::after {\n",
       "  align-self: flex-end;\n",
       "  width: 50%;\n",
       "}\n",
       "\n",
       "#sk-container-id-1 div.sk-parallel-item:last-child::after {\n",
       "  align-self: flex-start;\n",
       "  width: 50%;\n",
       "}\n",
       "\n",
       "#sk-container-id-1 div.sk-parallel-item:only-child::after {\n",
       "  width: 0;\n",
       "}\n",
       "\n",
       "/* Serial-specific style estimator block */\n",
       "\n",
       "#sk-container-id-1 div.sk-serial {\n",
       "  display: flex;\n",
       "  flex-direction: column;\n",
       "  align-items: center;\n",
       "  background-color: var(--sklearn-color-background);\n",
       "  padding-right: 1em;\n",
       "  padding-left: 1em;\n",
       "}\n",
       "\n",
       "\n",
       "/* Toggleable style: style used for estimator/Pipeline/ColumnTransformer box that is\n",
       "clickable and can be expanded/collapsed.\n",
       "- Pipeline and ColumnTransformer use this feature and define the default style\n",
       "- Estimators will overwrite some part of the style using the `sk-estimator` class\n",
       "*/\n",
       "\n",
       "/* Pipeline and ColumnTransformer style (default) */\n",
       "\n",
       "#sk-container-id-1 div.sk-toggleable {\n",
       "  /* Default theme specific background. It is overwritten whether we have a\n",
       "  specific estimator or a Pipeline/ColumnTransformer */\n",
       "  background-color: var(--sklearn-color-background);\n",
       "}\n",
       "\n",
       "/* Toggleable label */\n",
       "#sk-container-id-1 label.sk-toggleable__label {\n",
       "  cursor: pointer;\n",
       "  display: flex;\n",
       "  width: 100%;\n",
       "  margin-bottom: 0;\n",
       "  padding: 0.5em;\n",
       "  box-sizing: border-box;\n",
       "  text-align: center;\n",
       "  align-items: start;\n",
       "  justify-content: space-between;\n",
       "  gap: 0.5em;\n",
       "}\n",
       "\n",
       "#sk-container-id-1 label.sk-toggleable__label .caption {\n",
       "  font-size: 0.6rem;\n",
       "  font-weight: lighter;\n",
       "  color: var(--sklearn-color-text-muted);\n",
       "}\n",
       "\n",
       "#sk-container-id-1 label.sk-toggleable__label-arrow:before {\n",
       "  /* Arrow on the left of the label */\n",
       "  content: \"▸\";\n",
       "  float: left;\n",
       "  margin-right: 0.25em;\n",
       "  color: var(--sklearn-color-icon);\n",
       "}\n",
       "\n",
       "#sk-container-id-1 label.sk-toggleable__label-arrow:hover:before {\n",
       "  color: var(--sklearn-color-text);\n",
       "}\n",
       "\n",
       "/* Toggleable content - dropdown */\n",
       "\n",
       "#sk-container-id-1 div.sk-toggleable__content {\n",
       "  max-height: 0;\n",
       "  max-width: 0;\n",
       "  overflow: hidden;\n",
       "  text-align: left;\n",
       "  /* unfitted */\n",
       "  background-color: var(--sklearn-color-unfitted-level-0);\n",
       "}\n",
       "\n",
       "#sk-container-id-1 div.sk-toggleable__content.fitted {\n",
       "  /* fitted */\n",
       "  background-color: var(--sklearn-color-fitted-level-0);\n",
       "}\n",
       "\n",
       "#sk-container-id-1 div.sk-toggleable__content pre {\n",
       "  margin: 0.2em;\n",
       "  border-radius: 0.25em;\n",
       "  color: var(--sklearn-color-text);\n",
       "  /* unfitted */\n",
       "  background-color: var(--sklearn-color-unfitted-level-0);\n",
       "}\n",
       "\n",
       "#sk-container-id-1 div.sk-toggleable__content.fitted pre {\n",
       "  /* unfitted */\n",
       "  background-color: var(--sklearn-color-fitted-level-0);\n",
       "}\n",
       "\n",
       "#sk-container-id-1 input.sk-toggleable__control:checked~div.sk-toggleable__content {\n",
       "  /* Expand drop-down */\n",
       "  max-height: 200px;\n",
       "  max-width: 100%;\n",
       "  overflow: auto;\n",
       "}\n",
       "\n",
       "#sk-container-id-1 input.sk-toggleable__control:checked~label.sk-toggleable__label-arrow:before {\n",
       "  content: \"▾\";\n",
       "}\n",
       "\n",
       "/* Pipeline/ColumnTransformer-specific style */\n",
       "\n",
       "#sk-container-id-1 div.sk-label input.sk-toggleable__control:checked~label.sk-toggleable__label {\n",
       "  color: var(--sklearn-color-text);\n",
       "  background-color: var(--sklearn-color-unfitted-level-2);\n",
       "}\n",
       "\n",
       "#sk-container-id-1 div.sk-label.fitted input.sk-toggleable__control:checked~label.sk-toggleable__label {\n",
       "  background-color: var(--sklearn-color-fitted-level-2);\n",
       "}\n",
       "\n",
       "/* Estimator-specific style */\n",
       "\n",
       "/* Colorize estimator box */\n",
       "#sk-container-id-1 div.sk-estimator input.sk-toggleable__control:checked~label.sk-toggleable__label {\n",
       "  /* unfitted */\n",
       "  background-color: var(--sklearn-color-unfitted-level-2);\n",
       "}\n",
       "\n",
       "#sk-container-id-1 div.sk-estimator.fitted input.sk-toggleable__control:checked~label.sk-toggleable__label {\n",
       "  /* fitted */\n",
       "  background-color: var(--sklearn-color-fitted-level-2);\n",
       "}\n",
       "\n",
       "#sk-container-id-1 div.sk-label label.sk-toggleable__label,\n",
       "#sk-container-id-1 div.sk-label label {\n",
       "  /* The background is the default theme color */\n",
       "  color: var(--sklearn-color-text-on-default-background);\n",
       "}\n",
       "\n",
       "/* On hover, darken the color of the background */\n",
       "#sk-container-id-1 div.sk-label:hover label.sk-toggleable__label {\n",
       "  color: var(--sklearn-color-text);\n",
       "  background-color: var(--sklearn-color-unfitted-level-2);\n",
       "}\n",
       "\n",
       "/* Label box, darken color on hover, fitted */\n",
       "#sk-container-id-1 div.sk-label.fitted:hover label.sk-toggleable__label.fitted {\n",
       "  color: var(--sklearn-color-text);\n",
       "  background-color: var(--sklearn-color-fitted-level-2);\n",
       "}\n",
       "\n",
       "/* Estimator label */\n",
       "\n",
       "#sk-container-id-1 div.sk-label label {\n",
       "  font-family: monospace;\n",
       "  font-weight: bold;\n",
       "  display: inline-block;\n",
       "  line-height: 1.2em;\n",
       "}\n",
       "\n",
       "#sk-container-id-1 div.sk-label-container {\n",
       "  text-align: center;\n",
       "}\n",
       "\n",
       "/* Estimator-specific */\n",
       "#sk-container-id-1 div.sk-estimator {\n",
       "  font-family: monospace;\n",
       "  border: 1px dotted var(--sklearn-color-border-box);\n",
       "  border-radius: 0.25em;\n",
       "  box-sizing: border-box;\n",
       "  margin-bottom: 0.5em;\n",
       "  /* unfitted */\n",
       "  background-color: var(--sklearn-color-unfitted-level-0);\n",
       "}\n",
       "\n",
       "#sk-container-id-1 div.sk-estimator.fitted {\n",
       "  /* fitted */\n",
       "  background-color: var(--sklearn-color-fitted-level-0);\n",
       "}\n",
       "\n",
       "/* on hover */\n",
       "#sk-container-id-1 div.sk-estimator:hover {\n",
       "  /* unfitted */\n",
       "  background-color: var(--sklearn-color-unfitted-level-2);\n",
       "}\n",
       "\n",
       "#sk-container-id-1 div.sk-estimator.fitted:hover {\n",
       "  /* fitted */\n",
       "  background-color: var(--sklearn-color-fitted-level-2);\n",
       "}\n",
       "\n",
       "/* Specification for estimator info (e.g. \"i\" and \"?\") */\n",
       "\n",
       "/* Common style for \"i\" and \"?\" */\n",
       "\n",
       ".sk-estimator-doc-link,\n",
       "a:link.sk-estimator-doc-link,\n",
       "a:visited.sk-estimator-doc-link {\n",
       "  float: right;\n",
       "  font-size: smaller;\n",
       "  line-height: 1em;\n",
       "  font-family: monospace;\n",
       "  background-color: var(--sklearn-color-background);\n",
       "  border-radius: 1em;\n",
       "  height: 1em;\n",
       "  width: 1em;\n",
       "  text-decoration: none !important;\n",
       "  margin-left: 0.5em;\n",
       "  text-align: center;\n",
       "  /* unfitted */\n",
       "  border: var(--sklearn-color-unfitted-level-1) 1pt solid;\n",
       "  color: var(--sklearn-color-unfitted-level-1);\n",
       "}\n",
       "\n",
       ".sk-estimator-doc-link.fitted,\n",
       "a:link.sk-estimator-doc-link.fitted,\n",
       "a:visited.sk-estimator-doc-link.fitted {\n",
       "  /* fitted */\n",
       "  border: var(--sklearn-color-fitted-level-1) 1pt solid;\n",
       "  color: var(--sklearn-color-fitted-level-1);\n",
       "}\n",
       "\n",
       "/* On hover */\n",
       "div.sk-estimator:hover .sk-estimator-doc-link:hover,\n",
       ".sk-estimator-doc-link:hover,\n",
       "div.sk-label-container:hover .sk-estimator-doc-link:hover,\n",
       ".sk-estimator-doc-link:hover {\n",
       "  /* unfitted */\n",
       "  background-color: var(--sklearn-color-unfitted-level-3);\n",
       "  color: var(--sklearn-color-background);\n",
       "  text-decoration: none;\n",
       "}\n",
       "\n",
       "div.sk-estimator.fitted:hover .sk-estimator-doc-link.fitted:hover,\n",
       ".sk-estimator-doc-link.fitted:hover,\n",
       "div.sk-label-container:hover .sk-estimator-doc-link.fitted:hover,\n",
       ".sk-estimator-doc-link.fitted:hover {\n",
       "  /* fitted */\n",
       "  background-color: var(--sklearn-color-fitted-level-3);\n",
       "  color: var(--sklearn-color-background);\n",
       "  text-decoration: none;\n",
       "}\n",
       "\n",
       "/* Span, style for the box shown on hovering the info icon */\n",
       ".sk-estimator-doc-link span {\n",
       "  display: none;\n",
       "  z-index: 9999;\n",
       "  position: relative;\n",
       "  font-weight: normal;\n",
       "  right: .2ex;\n",
       "  padding: .5ex;\n",
       "  margin: .5ex;\n",
       "  width: min-content;\n",
       "  min-width: 20ex;\n",
       "  max-width: 50ex;\n",
       "  color: var(--sklearn-color-text);\n",
       "  box-shadow: 2pt 2pt 4pt #999;\n",
       "  /* unfitted */\n",
       "  background: var(--sklearn-color-unfitted-level-0);\n",
       "  border: .5pt solid var(--sklearn-color-unfitted-level-3);\n",
       "}\n",
       "\n",
       ".sk-estimator-doc-link.fitted span {\n",
       "  /* fitted */\n",
       "  background: var(--sklearn-color-fitted-level-0);\n",
       "  border: var(--sklearn-color-fitted-level-3);\n",
       "}\n",
       "\n",
       ".sk-estimator-doc-link:hover span {\n",
       "  display: block;\n",
       "}\n",
       "\n",
       "/* \"?\"-specific style due to the `<a>` HTML tag */\n",
       "\n",
       "#sk-container-id-1 a.estimator_doc_link {\n",
       "  float: right;\n",
       "  font-size: 1rem;\n",
       "  line-height: 1em;\n",
       "  font-family: monospace;\n",
       "  background-color: var(--sklearn-color-background);\n",
       "  border-radius: 1rem;\n",
       "  height: 1rem;\n",
       "  width: 1rem;\n",
       "  text-decoration: none;\n",
       "  /* unfitted */\n",
       "  color: var(--sklearn-color-unfitted-level-1);\n",
       "  border: var(--sklearn-color-unfitted-level-1) 1pt solid;\n",
       "}\n",
       "\n",
       "#sk-container-id-1 a.estimator_doc_link.fitted {\n",
       "  /* fitted */\n",
       "  border: var(--sklearn-color-fitted-level-1) 1pt solid;\n",
       "  color: var(--sklearn-color-fitted-level-1);\n",
       "}\n",
       "\n",
       "/* On hover */\n",
       "#sk-container-id-1 a.estimator_doc_link:hover {\n",
       "  /* unfitted */\n",
       "  background-color: var(--sklearn-color-unfitted-level-3);\n",
       "  color: var(--sklearn-color-background);\n",
       "  text-decoration: none;\n",
       "}\n",
       "\n",
       "#sk-container-id-1 a.estimator_doc_link.fitted:hover {\n",
       "  /* fitted */\n",
       "  background-color: var(--sklearn-color-fitted-level-3);\n",
       "}\n",
       "</style><div id=\"sk-container-id-1\" class=\"sk-top-container\"><div class=\"sk-text-repr-fallback\"><pre>LogisticRegression(max_iter=1000, random_state=42)</pre><b>In a Jupyter environment, please rerun this cell to show the HTML representation or trust the notebook. <br />On GitHub, the HTML representation is unable to render, please try loading this page with nbviewer.org.</b></div><div class=\"sk-container\" hidden><div class=\"sk-item\"><div class=\"sk-estimator fitted sk-toggleable\"><input class=\"sk-toggleable__control sk-hidden--visually\" id=\"sk-estimator-id-1\" type=\"checkbox\" checked><label for=\"sk-estimator-id-1\" class=\"sk-toggleable__label fitted sk-toggleable__label-arrow\"><div><div>LogisticRegression</div></div><div><a class=\"sk-estimator-doc-link fitted\" rel=\"noreferrer\" target=\"_blank\" href=\"https://scikit-learn.org/1.6/modules/generated/sklearn.linear_model.LogisticRegression.html\">?<span>Documentation for LogisticRegression</span></a><span class=\"sk-estimator-doc-link fitted\">i<span>Fitted</span></span></div></label><div class=\"sk-toggleable__content fitted\"><pre>LogisticRegression(max_iter=1000, random_state=42)</pre></div> </div></div></div></div>"
      ],
      "text/plain": [
       "LogisticRegression(max_iter=1000, random_state=42)"
      ]
     },
     "execution_count": 8,
     "metadata": {},
     "output_type": "execute_result"
    }
   ],
   "source": [
    "from sklearn.linear_model import LogisticRegression\n",
    "\n",
    "lr_model = LogisticRegression(max_iter=1000, random_state=42)\n",
    "lr_model.fit(X_train_tfidf, y_train)\n"
   ]
  },
  {
   "cell_type": "markdown",
   "id": "33468b1d",
   "metadata": {},
   "source": [
    "### 4.1 Fine-tuning BERT Model"
   ]
  },
  {
   "cell_type": "code",
   "execution_count": 9,
   "id": "678b78b6",
   "metadata": {},
   "outputs": [
    {
     "data": {
      "application/vnd.jupyter.widget-view+json": {
       "model_id": "b3e58e5c1168466fb17f90fe98036f5f",
       "version_major": 2,
       "version_minor": 0
      },
      "text/plain": [
       "Map:   0%|          | 0/40000 [00:00<?, ? examples/s]"
      ]
     },
     "metadata": {},
     "output_type": "display_data"
    },
    {
     "data": {
      "application/vnd.jupyter.widget-view+json": {
       "model_id": "eef4d649aec84238992fe6118099370b",
       "version_major": 2,
       "version_minor": 0
      },
      "text/plain": [
       "Map:   0%|          | 0/10000 [00:00<?, ? examples/s]"
      ]
     },
     "metadata": {},
     "output_type": "display_data"
    },
    {
     "name": "stderr",
     "output_type": "stream",
     "text": [
      "Some weights of BertForSequenceClassification were not initialized from the model checkpoint at bert-base-uncased and are newly initialized: ['classifier.bias', 'classifier.weight']\n",
      "You should probably TRAIN this model on a down-stream task to be able to use it for predictions and inference.\n"
     ]
    },
    {
     "name": "stdout",
     "output_type": "stream",
     "text": [
      "Starting BERT model fine-tuning...\n"
     ]
    },
    {
     "data": {
      "text/html": [
       "\n",
       "    <div>\n",
       "      \n",
       "      <progress value='5000' max='5000' style='width:300px; height:20px; vertical-align: middle;'></progress>\n",
       "      [5000/5000 16:43, Epoch 1/1]\n",
       "    </div>\n",
       "    <table border=\"1\" class=\"dataframe\">\n",
       "  <thead>\n",
       " <tr style=\"text-align: left;\">\n",
       "      <th>Epoch</th>\n",
       "      <th>Training Loss</th>\n",
       "      <th>Validation Loss</th>\n",
       "      <th>Accuracy</th>\n",
       "      <th>Macro F1</th>\n",
       "      <th>Macro Precision</th>\n",
       "      <th>Macro Recall</th>\n",
       "    </tr>\n",
       "  </thead>\n",
       "  <tbody>\n",
       "    <tr>\n",
       "      <td>1</td>\n",
       "      <td>0.278900</td>\n",
       "      <td>0.304227</td>\n",
       "      <td>0.901000</td>\n",
       "      <td>0.900997</td>\n",
       "      <td>0.901047</td>\n",
       "      <td>0.901000</td>\n",
       "    </tr>\n",
       "  </tbody>\n",
       "</table><p>"
      ],
      "text/plain": [
       "<IPython.core.display.HTML object>"
      ]
     },
     "metadata": {},
     "output_type": "display_data"
    },
    {
     "name": "stdout",
     "output_type": "stream",
     "text": [
      "\n",
      "BERT model fine-tuning complete.\n",
      "Evaluating fine-tuned BERT model on the test set (using Trainer's evaluate method):\n"
     ]
    },
    {
     "data": {
      "text/html": [],
      "text/plain": [
       "<IPython.core.display.HTML object>"
      ]
     },
     "metadata": {},
     "output_type": "display_data"
    },
    {
     "name": "stdout",
     "output_type": "stream",
     "text": [
      "eval_loss: 0.3042\n",
      "eval_accuracy: 0.9010\n",
      "eval_macro_f1: 0.9010\n",
      "eval_macro_precision: 0.9010\n",
      "eval_macro_recall: 0.9010\n",
      "eval_runtime: 50.0669\n",
      "eval_samples_per_second: 199.7330\n",
      "eval_steps_per_second: 24.9670\n",
      "epoch: 1.0000\n"
     ]
    }
   ],
   "source": [
    "import pandas as pd\n",
    "from datasets import Dataset\n",
    "from transformers import BertTokenizerFast, BertForSequenceClassification, TrainingArguments, Trainer\n",
    "import numpy as np\n",
    "from sklearn.metrics import accuracy_score, precision_recall_fscore_support\n",
    "\n",
    "# 1. Prepare Data for Hugging Face Datasets\n",
    "# X_train, y_train, X_test, y_test are available from cell 25749f5e\n",
    "train_df = pd.DataFrame({'text': X_train, 'label': y_train})\n",
    "test_df = pd.DataFrame({'text': X_test, 'label': y_test})\n",
    "\n",
    "train_dataset = Dataset.from_pandas(train_df)\n",
    "test_dataset = Dataset.from_pandas(test_df)\n",
    "\n",
    "# 2. Load Tokenizer and Tokenize Data\n",
    "tokenizer_bert = BertTokenizerFast.from_pretrained('bert-base-uncased')\n",
    "\n",
    "def tokenize_function_bert(examples):\n",
    "    return tokenizer_bert(examples['text'], padding='max_length', truncation=True, max_length=256)\n",
    "\n",
    "train_dataset_tokenized = train_dataset.map(tokenize_function_bert, batched=True)\n",
    "test_dataset_tokenized = test_dataset.map(tokenize_function_bert, batched=True)\n",
    "\n",
    "# Remove original text column, set format for PyTorch\n",
    "train_dataset_tokenized = train_dataset_tokenized.remove_columns([\"text\"])\n",
    "train_dataset_tokenized.set_format(\"torch\")\n",
    "test_dataset_tokenized = test_dataset_tokenized.remove_columns([\"text\"])\n",
    "test_dataset_tokenized.set_format(\"torch\")\n",
    "\n",
    "\n",
    "# 3. Load BERT Model\n",
    "bert_model_fine_tuned = BertForSequenceClassification.from_pretrained('bert-base-uncased', num_labels=2)\n",
    "\n",
    "# 4. Define Compute Metrics Function for Trainer\n",
    "def compute_metrics_bert(pred):\n",
    "    labels = pred.label_ids\n",
    "    preds = np.argmax(pred.predictions, axis=1)\n",
    "    precision, recall, f1, _ = precision_recall_fscore_support(labels, preds, average='macro', zero_division=0)\n",
    "    acc = accuracy_score(labels, preds)\n",
    "    return {\n",
    "        'accuracy': acc,\n",
    "        'macro_f1': f1,\n",
    "        'macro_precision': precision,\n",
    "        'macro_recall': recall\n",
    "    }\n",
    "\n",
    "# 5. Define Training Arguments\n",
    "# Note: num_train_epochs=1 is for quick demonstration. Increase for better performance.\n",
    "# Adjust batch_size based on your GPU memory.\n",
    "training_args_bert = TrainingArguments(\n",
    "    output_dir='./results_bert',          # Output directory for model checkpoints and predictions\n",
    "    num_train_epochs=1,                   # Total number of training epochs (e.g., 3-5 for full training)\n",
    "    per_device_train_batch_size=8,        # Batch size per device during training\n",
    "    per_device_eval_batch_size=8,         # Batch size for evaluation\n",
    "    warmup_steps=100,                     # Number of warmup steps for learning rate scheduler\n",
    "    weight_decay=0.01,                    # Strength of weight decay\n",
    "    logging_dir='./logs_bert',            # Directory for storing logs\n",
    "    logging_steps=50,                     # Log every X updates steps\n",
    "    eval_strategy=\"epoch\",                # Evaluate at the end of each epoch\n",
    "    save_strategy=\"epoch\",                # Save model checkpoint at the end of each epoch\n",
    "    load_best_model_at_end=True,          # Load the best model found during training at the end\n",
    "    metric_for_best_model=\"macro_f1\",     # Metric to identify the best model\n",
    "    greater_is_better=True,               # For macro_f1, higher is better\n",
    "    report_to=\"none\",                     # Disable external reporting (e.g., wandb)\n",
    "    fp16=True,                            # Enable mixed precision training for NVIDIA GPUs\n",
    "    tf32=True                             # Enable TF32 on Ampere and newer NVIDIA GPUs (requires PyTorch 1.7+)\n",
    ")\n",
    "\n",
    "# 6. Create Trainer Instance\n",
    "bert_trainer = Trainer(\n",
    "    model=bert_model_fine_tuned,\n",
    "    args=training_args_bert,\n",
    "    train_dataset=train_dataset_tokenized,\n",
    "    eval_dataset=test_dataset_tokenized,    # Using full test set for evaluation during training\n",
    "    compute_metrics=compute_metrics_bert\n",
    ")\n",
    "\n",
    "# 7. Fine-tune the Model\n",
    "print(\"Starting BERT model fine-tuning...\")\n",
    "bert_trainer.train()\n",
    "\n",
    "print(\"\\nBERT model fine-tuning complete.\")\n",
    "print(\"Evaluating fine-tuned BERT model on the test set (using Trainer's evaluate method):\")\n",
    "bert_eval_results_trainer = bert_trainer.evaluate(test_dataset_tokenized)\n",
    "for key, value in bert_eval_results_trainer.items():\n",
    "    print(f\"{key}: {value:.4f}\")\n"
   ]
  },
  {
   "cell_type": "markdown",
   "id": "c5c03905",
   "metadata": {
    "id": "c5c03905"
   },
   "source": [
    "## 5. Training LSTM Model (Deep Learning)"
   ]
  },
  {
   "cell_type": "code",
   "execution_count": 14,
   "id": "ae8ceb52",
   "metadata": {
    "colab": {
     "base_uri": "https://localhost:8080/"
    },
    "executionInfo": {
     "elapsed": 73459,
     "status": "ok",
     "timestamp": 1746478805734,
     "user": {
      "displayName": "Abdullah Ahmad (Student)",
      "userId": "16018724145086147473"
     },
     "user_tz": -180
    },
    "id": "ae8ceb52",
    "outputId": "b405b858-0c7b-4d43-f7c2-49a0f25b7fe8"
   },
   "outputs": [
    {
     "name": "stdout",
     "output_type": "stream",
     "text": [
      "Compute dtype: float16\n",
      "Variable dtype: float32\n",
      "Attempting to load GloVe embeddings from: glove.6B.100d.txt\n",
      "Attempting to load GloVe embeddings from: glove.6B.100d.txt\n",
      "Successfully found 400000 word vectors in GloVe file.\n",
      "Embedding matrix for Keras prepared.\n",
      "Successfully found 400000 word vectors in GloVe file.\n",
      "Embedding matrix for Keras prepared.\n",
      "Initializing Embedding layer with pre-trained GloVe weights (Dimension: 100). Trainable: False.\n",
      "\n",
      "BiLSTM Model Summary:\n",
      "Initializing Embedding layer with pre-trained GloVe weights (Dimension: 100). Trainable: False.\n",
      "\n",
      "BiLSTM Model Summary:\n"
     ]
    },
    {
     "data": {
      "text/html": [
       "<pre style=\"white-space:pre;overflow-x:auto;line-height:normal;font-family:Menlo,'DejaVu Sans Mono',consolas,'Courier New',monospace\"><span style=\"font-weight: bold\">Model: \"sequential_1\"</span>\n",
       "</pre>\n"
      ],
      "text/plain": [
       "\u001b[1mModel: \"sequential_1\"\u001b[0m\n"
      ]
     },
     "metadata": {},
     "output_type": "display_data"
    },
    {
     "data": {
      "text/html": [
       "<pre style=\"white-space:pre;overflow-x:auto;line-height:normal;font-family:Menlo,'DejaVu Sans Mono',consolas,'Courier New',monospace\">┏━━━━━━━━━━━━━━━━━━━━━━━━━━━━━━━━━┳━━━━━━━━━━━━━━━━━━━━━━━━┳━━━━━━━━━━━━━━━┓\n",
       "┃<span style=\"font-weight: bold\"> Layer (type)                    </span>┃<span style=\"font-weight: bold\"> Output Shape           </span>┃<span style=\"font-weight: bold\">       Param # </span>┃\n",
       "┡━━━━━━━━━━━━━━━━━━━━━━━━━━━━━━━━━╇━━━━━━━━━━━━━━━━━━━━━━━━╇━━━━━━━━━━━━━━━┩\n",
       "│ embedding_1 (<span style=\"color: #0087ff; text-decoration-color: #0087ff\">Embedding</span>)         │ ?                      │     <span style=\"color: #00af00; text-decoration-color: #00af00\">2,000,100</span> │\n",
       "├─────────────────────────────────┼────────────────────────┼───────────────┤\n",
       "│ bidirectional_2 (<span style=\"color: #0087ff; text-decoration-color: #0087ff\">Bidirectional</span>) │ ?                      │   <span style=\"color: #00af00; text-decoration-color: #00af00\">0</span> (unbuilt) │\n",
       "├─────────────────────────────────┼────────────────────────┼───────────────┤\n",
       "│ bidirectional_3 (<span style=\"color: #0087ff; text-decoration-color: #0087ff\">Bidirectional</span>) │ ?                      │   <span style=\"color: #00af00; text-decoration-color: #00af00\">0</span> (unbuilt) │\n",
       "├─────────────────────────────────┼────────────────────────┼───────────────┤\n",
       "│ dense_2 (<span style=\"color: #0087ff; text-decoration-color: #0087ff\">Dense</span>)                 │ ?                      │   <span style=\"color: #00af00; text-decoration-color: #00af00\">0</span> (unbuilt) │\n",
       "├─────────────────────────────────┼────────────────────────┼───────────────┤\n",
       "│ dropout_1 (<span style=\"color: #0087ff; text-decoration-color: #0087ff\">Dropout</span>)             │ ?                      │             <span style=\"color: #00af00; text-decoration-color: #00af00\">0</span> │\n",
       "├─────────────────────────────────┼────────────────────────┼───────────────┤\n",
       "│ dense_3 (<span style=\"color: #0087ff; text-decoration-color: #0087ff\">Dense</span>)                 │ ?                      │   <span style=\"color: #00af00; text-decoration-color: #00af00\">0</span> (unbuilt) │\n",
       "└─────────────────────────────────┴────────────────────────┴───────────────┘\n",
       "</pre>\n"
      ],
      "text/plain": [
       "┏━━━━━━━━━━━━━━━━━━━━━━━━━━━━━━━━━┳━━━━━━━━━━━━━━━━━━━━━━━━┳━━━━━━━━━━━━━━━┓\n",
       "┃\u001b[1m \u001b[0m\u001b[1mLayer (type)                   \u001b[0m\u001b[1m \u001b[0m┃\u001b[1m \u001b[0m\u001b[1mOutput Shape          \u001b[0m\u001b[1m \u001b[0m┃\u001b[1m \u001b[0m\u001b[1m      Param #\u001b[0m\u001b[1m \u001b[0m┃\n",
       "┡━━━━━━━━━━━━━━━━━━━━━━━━━━━━━━━━━╇━━━━━━━━━━━━━━━━━━━━━━━━╇━━━━━━━━━━━━━━━┩\n",
       "│ embedding_1 (\u001b[38;5;33mEmbedding\u001b[0m)         │ ?                      │     \u001b[38;5;34m2,000,100\u001b[0m │\n",
       "├─────────────────────────────────┼────────────────────────┼───────────────┤\n",
       "│ bidirectional_2 (\u001b[38;5;33mBidirectional\u001b[0m) │ ?                      │   \u001b[38;5;34m0\u001b[0m (unbuilt) │\n",
       "├─────────────────────────────────┼────────────────────────┼───────────────┤\n",
       "│ bidirectional_3 (\u001b[38;5;33mBidirectional\u001b[0m) │ ?                      │   \u001b[38;5;34m0\u001b[0m (unbuilt) │\n",
       "├─────────────────────────────────┼────────────────────────┼───────────────┤\n",
       "│ dense_2 (\u001b[38;5;33mDense\u001b[0m)                 │ ?                      │   \u001b[38;5;34m0\u001b[0m (unbuilt) │\n",
       "├─────────────────────────────────┼────────────────────────┼───────────────┤\n",
       "│ dropout_1 (\u001b[38;5;33mDropout\u001b[0m)             │ ?                      │             \u001b[38;5;34m0\u001b[0m │\n",
       "├─────────────────────────────────┼────────────────────────┼───────────────┤\n",
       "│ dense_3 (\u001b[38;5;33mDense\u001b[0m)                 │ ?                      │   \u001b[38;5;34m0\u001b[0m (unbuilt) │\n",
       "└─────────────────────────────────┴────────────────────────┴───────────────┘\n"
      ]
     },
     "metadata": {},
     "output_type": "display_data"
    },
    {
     "data": {
      "text/html": [
       "<pre style=\"white-space:pre;overflow-x:auto;line-height:normal;font-family:Menlo,'DejaVu Sans Mono',consolas,'Courier New',monospace\"><span style=\"font-weight: bold\"> Total params: </span><span style=\"color: #00af00; text-decoration-color: #00af00\">2,000,100</span> (7.63 MB)\n",
       "</pre>\n"
      ],
      "text/plain": [
       "\u001b[1m Total params: \u001b[0m\u001b[38;5;34m2,000,100\u001b[0m (7.63 MB)\n"
      ]
     },
     "metadata": {},
     "output_type": "display_data"
    },
    {
     "data": {
      "text/html": [
       "<pre style=\"white-space:pre;overflow-x:auto;line-height:normal;font-family:Menlo,'DejaVu Sans Mono',consolas,'Courier New',monospace\"><span style=\"font-weight: bold\"> Trainable params: </span><span style=\"color: #00af00; text-decoration-color: #00af00\">0</span> (0.00 B)\n",
       "</pre>\n"
      ],
      "text/plain": [
       "\u001b[1m Trainable params: \u001b[0m\u001b[38;5;34m0\u001b[0m (0.00 B)\n"
      ]
     },
     "metadata": {},
     "output_type": "display_data"
    },
    {
     "data": {
      "text/html": [
       "<pre style=\"white-space:pre;overflow-x:auto;line-height:normal;font-family:Menlo,'DejaVu Sans Mono',consolas,'Courier New',monospace\"><span style=\"font-weight: bold\"> Non-trainable params: </span><span style=\"color: #00af00; text-decoration-color: #00af00\">2,000,100</span> (7.63 MB)\n",
       "</pre>\n"
      ],
      "text/plain": [
       "\u001b[1m Non-trainable params: \u001b[0m\u001b[38;5;34m2,000,100\u001b[0m (7.63 MB)\n"
      ]
     },
     "metadata": {},
     "output_type": "display_data"
    },
    {
     "name": "stdout",
     "output_type": "stream",
     "text": [
      "\n",
      "Starting BiLSTM model training...\n",
      "Epoch 1/10\n",
      "\u001b[1m563/563\u001b[0m \u001b[32m━━━━━━━━━━━━━━━━━━━━\u001b[0m\u001b[37m\u001b[0m \u001b[1m293s\u001b[0m 512ms/step - accuracy: 0.6916 - loss: 0.5764 - val_accuracy: 0.7952 - val_loss: 0.4260\n",
      "Epoch 2/10\n",
      "\u001b[1m563/563\u001b[0m \u001b[32m━━━━━━━━━━━━━━━━━━━━\u001b[0m\u001b[37m\u001b[0m \u001b[1m293s\u001b[0m 512ms/step - accuracy: 0.6916 - loss: 0.5764 - val_accuracy: 0.7952 - val_loss: 0.4260\n",
      "Epoch 2/10\n",
      "\u001b[1m563/563\u001b[0m \u001b[32m━━━━━━━━━━━━━━━━━━━━\u001b[0m\u001b[37m\u001b[0m \u001b[1m380s\u001b[0m 674ms/step - accuracy: 0.8124 - loss: 0.4192 - val_accuracy: 0.8048 - val_loss: 0.4104\n",
      "Epoch 3/10\n",
      "\u001b[1m563/563\u001b[0m \u001b[32m━━━━━━━━━━━━━━━━━━━━\u001b[0m\u001b[37m\u001b[0m \u001b[1m380s\u001b[0m 674ms/step - accuracy: 0.8124 - loss: 0.4192 - val_accuracy: 0.8048 - val_loss: 0.4104\n",
      "Epoch 3/10\n",
      "\u001b[1m563/563\u001b[0m \u001b[32m━━━━━━━━━━━━━━━━━━━━\u001b[0m\u001b[37m\u001b[0m \u001b[1m393s\u001b[0m 698ms/step - accuracy: 0.8400 - loss: 0.3715 - val_accuracy: 0.8487 - val_loss: 0.3421\n",
      "Epoch 4/10\n",
      "\u001b[1m563/563\u001b[0m \u001b[32m━━━━━━━━━━━━━━━━━━━━\u001b[0m\u001b[37m\u001b[0m \u001b[1m393s\u001b[0m 698ms/step - accuracy: 0.8400 - loss: 0.3715 - val_accuracy: 0.8487 - val_loss: 0.3421\n",
      "Epoch 4/10\n",
      "\u001b[1m563/563\u001b[0m \u001b[32m━━━━━━━━━━━━━━━━━━━━\u001b[0m\u001b[37m\u001b[0m \u001b[1m472s\u001b[0m 839ms/step - accuracy: 0.8577 - loss: 0.3365 - val_accuracy: 0.8410 - val_loss: 0.3596\n",
      "Epoch 5/10\n",
      "\u001b[1m563/563\u001b[0m \u001b[32m━━━━━━━━━━━━━━━━━━━━\u001b[0m\u001b[37m\u001b[0m \u001b[1m472s\u001b[0m 839ms/step - accuracy: 0.8577 - loss: 0.3365 - val_accuracy: 0.8410 - val_loss: 0.3596\n",
      "Epoch 5/10\n",
      "\u001b[1m563/563\u001b[0m \u001b[32m━━━━━━━━━━━━━━━━━━━━\u001b[0m\u001b[37m\u001b[0m \u001b[1m473s\u001b[0m 841ms/step - accuracy: 0.8709 - loss: 0.3067 - val_accuracy: 0.8577 - val_loss: 0.3200\n",
      "Epoch 6/10\n",
      "\u001b[1m563/563\u001b[0m \u001b[32m━━━━━━━━━━━━━━━━━━━━\u001b[0m\u001b[37m\u001b[0m \u001b[1m473s\u001b[0m 841ms/step - accuracy: 0.8709 - loss: 0.3067 - val_accuracy: 0.8577 - val_loss: 0.3200\n",
      "Epoch 6/10\n",
      "\u001b[1m563/563\u001b[0m \u001b[32m━━━━━━━━━━━━━━━━━━━━\u001b[0m\u001b[37m\u001b[0m \u001b[1m498s\u001b[0m 884ms/step - accuracy: 0.8804 - loss: 0.2841 - val_accuracy: 0.8650 - val_loss: 0.3183\n",
      "Epoch 7/10\n",
      "\u001b[1m563/563\u001b[0m \u001b[32m━━━━━━━━━━━━━━━━━━━━\u001b[0m\u001b[37m\u001b[0m \u001b[1m498s\u001b[0m 884ms/step - accuracy: 0.8804 - loss: 0.2841 - val_accuracy: 0.8650 - val_loss: 0.3183\n",
      "Epoch 7/10\n",
      "\u001b[1m563/563\u001b[0m \u001b[32m━━━━━━━━━━━━━━━━━━━━\u001b[0m\u001b[37m\u001b[0m \u001b[1m532s\u001b[0m 945ms/step - accuracy: 0.8915 - loss: 0.2650 - val_accuracy: 0.8537 - val_loss: 0.3239\n",
      "Epoch 8/10\n",
      "\u001b[1m563/563\u001b[0m \u001b[32m━━━━━━━━━━━━━━━━━━━━\u001b[0m\u001b[37m\u001b[0m \u001b[1m532s\u001b[0m 945ms/step - accuracy: 0.8915 - loss: 0.2650 - val_accuracy: 0.8537 - val_loss: 0.3239\n",
      "Epoch 8/10\n",
      "\u001b[1m563/563\u001b[0m \u001b[32m━━━━━━━━━━━━━━━━━━━━\u001b[0m\u001b[37m\u001b[0m \u001b[1m521s\u001b[0m 926ms/step - accuracy: 0.9006 - loss: 0.2434 - val_accuracy: 0.8635 - val_loss: 0.3385\n",
      "Epoch 9/10\n",
      "\u001b[1m563/563\u001b[0m \u001b[32m━━━━━━━━━━━━━━━━━━━━\u001b[0m\u001b[37m\u001b[0m \u001b[1m521s\u001b[0m 926ms/step - accuracy: 0.9006 - loss: 0.2434 - val_accuracy: 0.8635 - val_loss: 0.3385\n",
      "Epoch 9/10\n",
      "\u001b[1m563/563\u001b[0m \u001b[32m━━━━━━━━━━━━━━━━━━━━\u001b[0m\u001b[37m\u001b[0m \u001b[1m474s\u001b[0m 843ms/step - accuracy: 0.9158 - loss: 0.2121 - val_accuracy: 0.8625 - val_loss: 0.3720\n",
      "\u001b[1m563/563\u001b[0m \u001b[32m━━━━━━━━━━━━━━━━━━━━\u001b[0m\u001b[37m\u001b[0m \u001b[1m474s\u001b[0m 843ms/step - accuracy: 0.9158 - loss: 0.2121 - val_accuracy: 0.8625 - val_loss: 0.3720\n",
      "BiLSTM model training complete.\n",
      "BiLSTM model training complete.\n"
     ]
    }
   ],
   "source": [
    "import tensorflow as tf\n",
    "from tensorflow.keras import mixed_precision  # Added for mixed precision\n",
    "from tensorflow.keras.preprocessing.text import Tokenizer\n",
    "from tensorflow.keras.preprocessing.sequence import pad_sequences\n",
    "from tensorflow.keras.models import Sequential\n",
    "from tensorflow.keras.layers import Embedding, LSTM, Dense, Dropout, Bidirectional\n",
    "from tensorflow.keras.callbacks import EarlyStopping\n",
    "import numpy as np  # Ensure numpy is imported for GloVe processing\n",
    "\n",
    "# --- Enable Mixed Precision for TensorFlow --- \n",
    "# This should be done at the start, before model definition\n",
    "# It's generally safe for most models and can provide significant speedups on compatible GPUs.\n",
    "policy = mixed_precision.Policy('mixed_float16')\n",
    "mixed_precision.set_global_policy(policy)\n",
    "print(f'Compute dtype: {policy.compute_dtype}')\n",
    "print(f'Variable dtype: {policy.variable_dtype}')\n",
    "# --- End Mixed Precision Setup ---\n",
    "\n",
    "MAX_WORDS = 20000\n",
    "MAX_LEN = 250\n",
    "\n",
    "# --- GloVe Configuration ---\n",
    "# IMPORTANT: \n",
    "# 1. Download a GloVe file (e.g., 'glove.6B.100d.txt')\n",
    "# 2. Place it in your project directory or provide the full path.\n",
    "# 3. Update GLOVE_FILE_PATH and GLOVE_DIM accordingly.\n",
    "GLOVE_FILE_PATH = 'glove.6B.100d.txt'  # <-- UPDATE THIS PATH\n",
    "GLOVE_DIM = 100  # Match this to the dimension of your GloVe file (e.g., 50, 100, 200, 300)\n",
    "# --- End GloVe Configuration ---\n",
    "\n",
    "tokenizer = Tokenizer(num_words=MAX_WORDS)\n",
    "tokenizer.fit_on_texts(X_train)\n",
    "\n",
    "# --- Load GloVe Embeddings ---\n",
    "print(f\"Attempting to load GloVe embeddings from: {GLOVE_FILE_PATH}\")\n",
    "embeddings_index = {}\n",
    "embedding_matrix = None\n",
    "try:\n",
    "    with open(GLOVE_FILE_PATH, encoding='utf-8') as f:\n",
    "        for line in f:\n",
    "            values = line.split()\n",
    "            word = values[0]\n",
    "            coefs = np.asarray(values[1:], dtype='float32')\n",
    "            embeddings_index[word] = coefs\n",
    "    print(f\"Successfully found {len(embeddings_index)} word vectors in GloVe file.\")\n",
    "\n",
    "    # Prepare embedding matrix\n",
    "    # Words not found in embedding index will be all-zeros.\n",
    "    # Note: tokenizer.word_index is 1-based.\n",
    "    # MAX_WORDS is the vocabulary size for the Embedding layer.\n",
    "    # We use MAX_WORDS + 1 for input_dim to handle indices 0 to MAX_WORDS.\n",
    "    embedding_matrix = np.zeros((MAX_WORDS + 1, GLOVE_DIM))\n",
    "    for word, i in tokenizer.word_index.items():\n",
    "        if i <= MAX_WORDS:  # word_index is 1-based, allow up to MAX_WORDS\n",
    "            embedding_vector = embeddings_index.get(word)\n",
    "            if embedding_vector is not None:\n",
    "                embedding_matrix[i] = embedding_vector  # Store at index i (0 is for padding)\n",
    "    print(\"Embedding matrix for Keras prepared.\")\n",
    "\n",
    "except FileNotFoundError:\n",
    "    print(f\"ERROR: GloVe file not found at '{GLOVE_FILE_PATH}'.\")\n",
    "    print(\"The LSTM model will use a new trainable Embedding layer instead of GloVe.\")\n",
    "except Exception as e:\n",
    "    print(f\"An error occurred while loading or processing GloVe embeddings: {e}\")\n",
    "    print(\"The LSTM model will use a new trainable Embedding layer instead of GloVe.\")\n",
    "# --- End Load GloVe Embeddings ---\n",
    "\n",
    "X_train_seq = tokenizer.texts_to_sequences(X_train)\n",
    "X_test_seq = tokenizer.texts_to_sequences(X_test)\n",
    "\n",
    "X_train_pad = pad_sequences(X_train_seq, maxlen=MAX_LEN)\n",
    "X_test_pad = pad_sequences(X_test_seq, maxlen=MAX_LEN)\n",
    "\n",
    "# --- Build the BiLSTM model ---\n",
    "lstm_model = Sequential()\n",
    "\n",
    "if embedding_matrix is not None and GLOVE_DIM > 0:\n",
    "    print(f\"Initializing Embedding layer with pre-trained GloVe weights (Dimension: {GLOVE_DIM}). Trainable: False.\")\n",
    "    lstm_model.add(Embedding(input_dim=MAX_WORDS + 1,        # Adjusted input_dim\n",
    "                             output_dim=GLOVE_DIM,       # Dimension of the dense embedding\n",
    "                             weights=[embedding_matrix], # Pre-trained weights\n",
    "                             input_length=MAX_LEN,       # Length of input sequences\n",
    "                             trainable=False))           # Keep GloVe embeddings fixed\n",
    "else:\n",
    "    ORIGINAL_EMBEDDING_DIM = 128  # Fallback dimension\n",
    "    print(f\"Initializing Embedding layer with trainable weights (Dimension: {ORIGINAL_EMBEDDING_DIM}). GloVe not used.\")\n",
    "    lstm_model.add(Embedding(input_dim=MAX_WORDS + 1,        # Adjusted input_dim\n",
    "                             output_dim=ORIGINAL_EMBEDDING_DIM,\n",
    "                             input_length=MAX_LEN,\n",
    "                             trainable=True))\n",
    "\n",
    "# Let TensorFlow use CuDNN defaults\n",
    "lstm_model.add(Bidirectional(LSTM(64, \n",
    "                                 return_sequences=True)))\n",
    "lstm_model.add(Bidirectional(LSTM(32)))\n",
    "lstm_model.add(Dense(64, activation='relu'))\n",
    "lstm_model.add(Dropout(0.5))\n",
    "# For numerical stability with mixed precision, the final layer's activation should compute in float32.\n",
    "# Keras handles this automatically if the layer's dtype is float32.\n",
    "lstm_model.add(Dense(1, activation='sigmoid', dtype='float32'))  # Sigmoid for binary classification, ensure float32\n",
    "\n",
    "lstm_model.compile(loss='binary_crossentropy', optimizer='adam', metrics=['accuracy'])\n",
    "\n",
    "print(\"\\nBiLSTM Model Summary:\")\n",
    "lstm_model.summary()\n",
    "# --- End Build the BiLSTM model ---\n",
    "\n",
    "early_stop = EarlyStopping(monitor='val_loss', patience=3, restore_best_weights=True)\n",
    "\n",
    "print(\"\\nStarting BiLSTM model training...\")\n",
    "# Reduce batch size which can help with GPU memory issues\n",
    "history = lstm_model.fit(X_train_pad, y_train,\n",
    "                         validation_split=0.1,\n",
    "                         epochs=10,\n",
    "                         batch_size=64,  # Reduced from 128 to help with memory issues\n",
    "                         callbacks=[early_stop])\n",
    "print(\"BiLSTM model training complete.\")\n"
   ]
  },
  {
   "cell_type": "markdown",
   "id": "46b78495",
   "metadata": {
    "id": "46b78495"
   },
   "source": [
    "## 6. Model Evaluation"
   ]
  },
  {
   "cell_type": "code",
   "execution_count": 15,
   "id": "2714f731",
   "metadata": {
    "colab": {
     "base_uri": "https://localhost:8080/",
     "height": 1000
    },
    "executionInfo": {
     "elapsed": 6227,
     "status": "ok",
     "timestamp": 1746478985924,
     "user": {
      "displayName": "Abdullah Ahmad (Student)",
      "userId": "16018724145086147473"
     },
     "user_tz": -180
    },
    "id": "2714f731",
    "outputId": "50172998-50ab-4895-b7ed-ba9a4d308e5c"
   },
   "outputs": [
    {
     "name": "stdout",
     "output_type": "stream",
     "text": [
      "--- Evaluating Logistic Regression ---\n",
      "\n",
      "Evaluation for Logistic Regression\n",
      "Accuracy: 0.8953\n",
      "Macro Precision: 0.8955\n",
      "Macro Recall: 0.8953\n",
      "Macro F1 Score: 0.8953\n",
      "AUC: 0.9613\n",
      "\n",
      "Confusion Matrix:\n"
     ]
    },
    {
     "data": {
      "image/png": "[encoded data removed]",
      "text/plain": [
       "<Figure size 640x480 with 2 Axes>"
      ]
     },
     "metadata": {},
     "output_type": "display_data"
    },
    {
     "name": "stdout",
     "output_type": "stream",
     "text": [
      "\n",
      "--- Evaluating BiLSTM with GloVe Embeddings ---\n",
      "\u001b[1m313/313\u001b[0m \u001b[32m━━━━━━━━━━━━━━━━━━━━\u001b[0m\u001b[37m\u001b[0m \u001b[1m37s\u001b[0m 115ms/step\n",
      "\u001b[1m313/313\u001b[0m \u001b[32m━━━━━━━━━━━━━━━━━━━━\u001b[0m\u001b[37m\u001b[0m \u001b[1m37s\u001b[0m 115ms/step\n",
      "\n",
      "Evaluation for BiLSTM (GloVe)\n",
      "Accuracy: 0.8635\n",
      "Macro Precision: 0.8638\n",
      "Macro Recall: 0.8635\n",
      "Macro F1 Score: 0.8635\n",
      "AUC: 0.9385\n",
      "\n",
      "Confusion Matrix:\n",
      "\n",
      "Evaluation for BiLSTM (GloVe)\n",
      "Accuracy: 0.8635\n",
      "Macro Precision: 0.8638\n",
      "Macro Recall: 0.8635\n",
      "Macro F1 Score: 0.8635\n",
      "AUC: 0.9385\n",
      "\n",
      "Confusion Matrix:\n"
     ]
    },
    {
     "data": {
      "image/png": "[encoded data removed]",
      "text/plain": [
       "<Figure size 640x480 with 2 Axes>"
      ]
     },
     "metadata": {},
     "output_type": "display_data"
    },
    {
     "name": "stdout",
     "output_type": "stream",
     "text": [
      "\n",
      "--- Evaluating Fine-tuned BERT ---\n",
      "\n",
      "Evaluation for BERT (Fine-tuned)\n",
      "Accuracy: 0.9010\n",
      "Macro Precision: 0.9010\n",
      "Macro Recall: 0.9010\n",
      "Macro F1 Score: 0.9010\n",
      "AUC: 0.9645\n",
      "\n",
      "Confusion Matrix:\n",
      "\n",
      "Evaluation for BERT (Fine-tuned)\n",
      "Accuracy: 0.9010\n",
      "Macro Precision: 0.9010\n",
      "Macro Recall: 0.9010\n",
      "Macro F1 Score: 0.9010\n",
      "AUC: 0.9645\n",
      "\n",
      "Confusion Matrix:\n"
     ]
    },
    {
     "data": {
      "image/png": "[encoded data removed]",
      "text/plain": [
       "<Figure size 640x480 with 2 Axes>"
      ]
     },
     "metadata": {},
     "output_type": "display_data"
    }
   ],
   "source": [
    "from sklearn.metrics import classification_report, confusion_matrix, accuracy_score, precision_score, recall_score, f1_score, roc_auc_score\n",
    "import seaborn as sns\n",
    "import numpy as np\n",
    "from scipy.special import softmax # For BERT model output processing\n",
    "\n",
    "def evaluate_model(model, X, y, model_name, is_dl=False, is_bert=False):\n",
    "    y_true = y # Actual labels\n",
    "\n",
    "    if is_bert:\n",
    "        # For Hugging Face Trainer object and tokenized dataset\n",
    "        # model is bert_trainer, X is test_dataset_tokenized\n",
    "        raw_predictions = model.predict(X) \n",
    "        logits = raw_predictions.predictions\n",
    "        y_pred_proba_all = softmax(logits, axis=1)\n",
    "        y_pred_proba = y_pred_proba_all[:, 1]  # Probability of positive class\n",
    "        y_pred = np.argmax(logits, axis=1)\n",
    "    elif is_dl: # For Keras models (like BiLSTM)\n",
    "        y_pred_proba_dl = model.predict(X)\n",
    "        y_pred = (y_pred_proba_dl > 0.5).astype(int).flatten()\n",
    "        y_pred_proba = y_pred_proba_dl.flatten() # Ensure it's 1D for AUC\n",
    "    else: # For Sklearn models (like Logistic Regression)\n",
    "        y_pred = model.predict(X)\n",
    "        if hasattr(model, 'predict_proba'):\n",
    "            y_pred_proba_sklearn = model.predict_proba(X)\n",
    "            y_pred_proba = y_pred_proba_sklearn[:, 1] # Probability of positive class\n",
    "        else:\n",
    "            # Fallback if predict_proba is not available (AUC might be less meaningful)\n",
    "            # For models like basic SGDClassifier, decision_function can be used and scaled.\n",
    "            # Here, we might pass y_pred if no probabilities are available, but AUC will be affected.\n",
    "            y_pred_proba = y_pred # Or handle as an error/warning for AUC\n",
    "\n",
    "    print(f\"\\nEvaluation for {model_name}\")\n",
    "    print(f\"Accuracy: {accuracy_score(y_true, y_pred):.4f}\")\n",
    "    print(f\"Macro Precision: {precision_score(y_true, y_pred, average='macro', zero_division=0):.4f}\")\n",
    "    print(f\"Macro Recall: {recall_score(y_true, y_pred, average='macro', zero_division=0):.4f}\")\n",
    "    print(f\"Macro F1 Score: {f1_score(y_true, y_pred, average='macro', zero_division=0):.4f}\")\n",
    "    \n",
    "    # Ensure y_pred_proba is 1D array of positive class probabilities for roc_auc_score\n",
    "    # This check is more of a safeguard; the logic above should produce 1D y_pred_proba.\n",
    "    if y_pred_proba.ndim > 1 and y_pred_proba.shape[1] > 1: \n",
    "        # This case should ideally not be hit if logic above is correct (e.g. [:,1] or .flatten())\n",
    "        print(f\"Warning: y_pred_proba for {model_name} is multi-dimensional. Attempting to use second column for AUC.\")\n",
    "        y_pred_proba_auc = y_pred_proba[:, 1]\n",
    "    elif y_pred_proba.ndim > 1 and y_pred_proba.shape[1] == 1:\n",
    "        y_pred_proba_auc = y_pred_proba.flatten()\n",
    "    else:\n",
    "        y_pred_proba_auc = y_pred_proba\n",
    "\n",
    "    try:\n",
    "        # Ensure y_pred_proba_auc contains valid probabilities for the positive class\n",
    "        print(f\"AUC: {roc_auc_score(y_true, y_pred_proba_auc):.4f}\")\n",
    "    except ValueError as e:\n",
    "        print(f\"Could not calculate AUC for {model_name}: {e}. Check y_pred_proba values.\")\n",
    "\n",
    "    print(\"\\nConfusion Matrix:\")\n",
    "    cm = confusion_matrix(y_true, y_pred)\n",
    "    sns.heatmap(cm, annot=True, fmt='d', cmap='Blues')\n",
    "    plt.xlabel(\"Predicted\")\n",
    "    plt.ylabel(\"Actual\")\n",
    "    plt.title(f\"Confusion Matrix: {model_name}\")\n",
    "    plt.show()\n",
    "\n",
    "# Evaluate Logistic Regression\n",
    "print(\"--- Evaluating Logistic Regression ---\")\n",
    "evaluate_model(lr_model, X_test_tfidf, y_test, \"Logistic Regression\")\n",
    "\n",
    "# Evaluate BiLSTM (Keras model)\n",
    "# The variable 'lstm_model' now holds the BiLSTM model from cell 282f65a7\n",
    "print(\"\\n--- Evaluating BiLSTM with GloVe Embeddings ---\")\n",
    "evaluate_model(lstm_model, X_test_pad, y_test, \"BiLSTM (GloVe)\", is_dl=True)\n",
    "\n",
    "# Evaluate Fine-tuned BERT\n",
    "# 'bert_trainer' is the HuggingFace Trainer object from cell 382d3882\n",
    "# 'test_dataset_tokenized' is the tokenized test data for BERT\n",
    "# 'y_test' (or test_dataset_tokenized['label']) are the true labels\n",
    "print(\"\\n--- Evaluating Fine-tuned BERT ---\")\n",
    "evaluate_model(bert_trainer, test_dataset_tokenized, y_test, \"BERT (Fine-tuned)\", is_bert=True)\n"
   ]
  },
  {
   "cell_type": "markdown",
   "id": "0ea132d2",
   "metadata": {
    "id": "0ea132d2"
   },
   "source": [
    "## 7. Conclusion and Comparison\n",
    "\n",
    "- **Logistic Regression**: Strong performance with TF-IDF, offers a good balance of simplicity and accuracy.IDF, excellent balance of simplicity and accuracy.\n",
    "- **LSTM**: Handles sequence information well and can be very accurate, especially with more tuning and data.\n",
    "- **BERT (Fine-tuned)**: State-of-the-art for many NLP tasks. Captures deep contextual understanding of text, leading to potentially the highest performance among the models compared. However, it is more computationally expensive to train and deploy.cs, suitable for complex NLP tasks.\n",
    "\n",
    "Final thoughts: For tasks requiring quick and reliable sentiment analysis with interpretable features, Logistic Regression with TF-IDF remains a strong contender. For achieving higher accuracy and capturing more nuanced linguistic features, especially with sufficient data and computational resources, deep learning models like LSTM and particularly transformer-based models like BERT are superior choices. The choice of model depends on the specific project requirements, including performance needs, interpretability, and resource constraints.ant performance gains."
   ]
  }
 ],
 "metadata": {
  "accelerator": "GPU",
  "colab": {
   "gpuType": "T4",
   "provenance": []
  },
  "kernelspec": {
   "display_name": "pytorch_gpu",
   "language": "python",
   "name": "python3"
  },
  "language_info": {
   "codemirror_mode": {
    "name": "ipython",
    "version": 3
   },
   "file_extension": ".py",
   "mimetype": "text/x-python",
   "name": "python",
   "nbconvert_exporter": "python",
   "pygments_lexer": "ipython3",
   "version": "3.11.9"
  }
 },
 "nbformat": 4,
 "nbformat_minor": 5
}
